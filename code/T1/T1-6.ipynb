{
 "cells": [
  {
   "cell_type": "markdown",
   "metadata": {},
   "source": [
    "주어진 데이터 중 basic1.csv에서 'f1'컬럼 결측 데이터를 제거하고, 'city'와 'f2'을 기준으로 묶어 합계를 구하고, 'city가 경기이면서 f2가 0'인 조건에 만족하는 f1 값을 구하시오"
   ]
  },
  {
   "cell_type": "code",
   "execution_count": 1,
   "metadata": {},
   "outputs": [],
   "source": [
    "import pandas as pd\n",
    "import numpy as np"
   ]
  },
  {
   "cell_type": "code",
   "execution_count": 12,
   "metadata": {},
   "outputs": [
    {
     "data": {
      "text/html": [
       "<div>\n",
       "<style scoped>\n",
       "    .dataframe tbody tr th:only-of-type {\n",
       "        vertical-align: middle;\n",
       "    }\n",
       "\n",
       "    .dataframe tbody tr th {\n",
       "        vertical-align: top;\n",
       "    }\n",
       "\n",
       "    .dataframe thead th {\n",
       "        text-align: right;\n",
       "    }\n",
       "</style>\n",
       "<table border=\"1\" class=\"dataframe\">\n",
       "  <thead>\n",
       "    <tr style=\"text-align: right;\">\n",
       "      <th></th>\n",
       "      <th>id</th>\n",
       "      <th>age</th>\n",
       "      <th>city</th>\n",
       "      <th>f1</th>\n",
       "      <th>f2</th>\n",
       "      <th>f3</th>\n",
       "      <th>f4</th>\n",
       "      <th>f5</th>\n",
       "    </tr>\n",
       "  </thead>\n",
       "  <tbody>\n",
       "    <tr>\n",
       "      <th>0</th>\n",
       "      <td>id01</td>\n",
       "      <td>2.0</td>\n",
       "      <td>서울</td>\n",
       "      <td>NaN</td>\n",
       "      <td>0</td>\n",
       "      <td>NaN</td>\n",
       "      <td>ENFJ</td>\n",
       "      <td>91.297791</td>\n",
       "    </tr>\n",
       "    <tr>\n",
       "      <th>1</th>\n",
       "      <td>id02</td>\n",
       "      <td>9.0</td>\n",
       "      <td>서울</td>\n",
       "      <td>70.0</td>\n",
       "      <td>1</td>\n",
       "      <td>NaN</td>\n",
       "      <td>ENFJ</td>\n",
       "      <td>60.339826</td>\n",
       "    </tr>\n",
       "    <tr>\n",
       "      <th>2</th>\n",
       "      <td>id03</td>\n",
       "      <td>27.0</td>\n",
       "      <td>서울</td>\n",
       "      <td>61.0</td>\n",
       "      <td>1</td>\n",
       "      <td>NaN</td>\n",
       "      <td>ISTJ</td>\n",
       "      <td>17.252986</td>\n",
       "    </tr>\n",
       "    <tr>\n",
       "      <th>3</th>\n",
       "      <td>id04</td>\n",
       "      <td>75.0</td>\n",
       "      <td>서울</td>\n",
       "      <td>NaN</td>\n",
       "      <td>2</td>\n",
       "      <td>NaN</td>\n",
       "      <td>INFP</td>\n",
       "      <td>52.667078</td>\n",
       "    </tr>\n",
       "    <tr>\n",
       "      <th>4</th>\n",
       "      <td>id05</td>\n",
       "      <td>24.0</td>\n",
       "      <td>서울</td>\n",
       "      <td>85.0</td>\n",
       "      <td>2</td>\n",
       "      <td>NaN</td>\n",
       "      <td>ISFJ</td>\n",
       "      <td>29.269869</td>\n",
       "    </tr>\n",
       "  </tbody>\n",
       "</table>\n",
       "</div>"
      ],
      "text/plain": [
       "     id   age city    f1  f2   f3    f4         f5\n",
       "0  id01   2.0   서울   NaN   0  NaN  ENFJ  91.297791\n",
       "1  id02   9.0   서울  70.0   1  NaN  ENFJ  60.339826\n",
       "2  id03  27.0   서울  61.0   1  NaN  ISTJ  17.252986\n",
       "3  id04  75.0   서울   NaN   2  NaN  INFP  52.667078\n",
       "4  id05  24.0   서울  85.0   2  NaN  ISFJ  29.269869"
      ]
     },
     "execution_count": 12,
     "metadata": {},
     "output_type": "execute_result"
    }
   ],
   "source": [
    "df = pd.read_csv('../../Datasat/bigdata_certification_kr/basic1.csv')\n",
    "df.head()"
   ]
  },
  {
   "cell_type": "code",
   "execution_count": 13,
   "metadata": {},
   "outputs": [
    {
     "data": {
      "text/plain": [
       "id       0\n",
       "age      0\n",
       "city     0\n",
       "f1      31\n",
       "f2       0\n",
       "f3      95\n",
       "f4       0\n",
       "f5       0\n",
       "dtype: int64"
      ]
     },
     "execution_count": 13,
     "metadata": {},
     "output_type": "execute_result"
    }
   ],
   "source": [
    "df.isnull().sum()\n",
    "# df.shape"
   ]
  },
  {
   "cell_type": "code",
   "execution_count": 14,
   "metadata": {},
   "outputs": [
    {
     "data": {
      "text/plain": [
       "(100, 8)"
      ]
     },
     "execution_count": 14,
     "metadata": {},
     "output_type": "execute_result"
    }
   ],
   "source": [
    "df.shape"
   ]
  },
  {
   "cell_type": "code",
   "execution_count": 15,
   "metadata": {},
   "outputs": [
    {
     "data": {
      "text/plain": [
       "(69, 8)"
      ]
     },
     "execution_count": 15,
     "metadata": {},
     "output_type": "execute_result"
    }
   ],
   "source": [
    "df = df[~df['f1'].isnull()]\n",
    "df.shape\n",
    "\n",
    "# df = df.dropna(subset=['f1']) 도 가능"
   ]
  },
  {
   "cell_type": "code",
   "execution_count": 16,
   "metadata": {},
   "outputs": [
    {
     "data": {
      "text/html": [
       "<div>\n",
       "<style scoped>\n",
       "    .dataframe tbody tr th:only-of-type {\n",
       "        vertical-align: middle;\n",
       "    }\n",
       "\n",
       "    .dataframe tbody tr th {\n",
       "        vertical-align: top;\n",
       "    }\n",
       "\n",
       "    .dataframe thead th {\n",
       "        text-align: right;\n",
       "    }\n",
       "</style>\n",
       "<table border=\"1\" class=\"dataframe\">\n",
       "  <thead>\n",
       "    <tr style=\"text-align: right;\">\n",
       "      <th></th>\n",
       "      <th></th>\n",
       "      <th>id</th>\n",
       "      <th>age</th>\n",
       "      <th>f1</th>\n",
       "      <th>f3</th>\n",
       "      <th>f4</th>\n",
       "      <th>f5</th>\n",
       "    </tr>\n",
       "    <tr>\n",
       "      <th>city</th>\n",
       "      <th>f2</th>\n",
       "      <th></th>\n",
       "      <th></th>\n",
       "      <th></th>\n",
       "      <th></th>\n",
       "      <th></th>\n",
       "      <th></th>\n",
       "    </tr>\n",
       "  </thead>\n",
       "  <tbody>\n",
       "    <tr>\n",
       "      <th rowspan=\"3\" valign=\"top\">경기</th>\n",
       "      <th>0</th>\n",
       "      <td>id69id72id74id75id76id77id80id84id85id88id91id...</td>\n",
       "      <td>720.4</td>\n",
       "      <td>833.0</td>\n",
       "      <td>vip</td>\n",
       "      <td>ESTJESTJESTPESTPENTJINFPISFPINTPINFJESTJINTPIS...</td>\n",
       "      <td>943.944823</td>\n",
       "    </tr>\n",
       "    <tr>\n",
       "      <th>1</th>\n",
       "      <td>id63id67id70id78id81id83id89id92id95id96</td>\n",
       "      <td>696.0</td>\n",
       "      <td>670.0</td>\n",
       "      <td>vip</td>\n",
       "      <td>ISFJISFJISTPINTJISFJENTPENTJINFPINTJENTJ</td>\n",
       "      <td>657.241212</td>\n",
       "    </tr>\n",
       "    <tr>\n",
       "      <th>2</th>\n",
       "      <td>id61id64id68id71id98</td>\n",
       "      <td>239.0</td>\n",
       "      <td>311.0</td>\n",
       "      <td>0</td>\n",
       "      <td>INTPESFPISFPISFPINFP</td>\n",
       "      <td>362.300060</td>\n",
       "    </tr>\n",
       "    <tr>\n",
       "      <th rowspan=\"3\" valign=\"top\">대구</th>\n",
       "      <th>0</th>\n",
       "      <td>id40id41id43id45id49id53id57</td>\n",
       "      <td>387.0</td>\n",
       "      <td>527.0</td>\n",
       "      <td>0</td>\n",
       "      <td>ENFPENFJISTPENFJINTPESTPISFJ</td>\n",
       "      <td>183.199568</td>\n",
       "    </tr>\n",
       "    <tr>\n",
       "      <th>1</th>\n",
       "      <td>id47id50id52</td>\n",
       "      <td>217.6</td>\n",
       "      <td>235.0</td>\n",
       "      <td>0</td>\n",
       "      <td>ESTJENFPISFJ</td>\n",
       "      <td>241.333824</td>\n",
       "    </tr>\n",
       "    <tr>\n",
       "      <th>2</th>\n",
       "      <td>id42id55id58</td>\n",
       "      <td>140.0</td>\n",
       "      <td>211.0</td>\n",
       "      <td>0</td>\n",
       "      <td>ESTPENTPESTP</td>\n",
       "      <td>79.667919</td>\n",
       "    </tr>\n",
       "    <tr>\n",
       "      <th rowspan=\"3\" valign=\"top\">부산</th>\n",
       "      <th>0</th>\n",
       "      <td>id24id27id31id32id33id39</td>\n",
       "      <td>331.0</td>\n",
       "      <td>389.0</td>\n",
       "      <td>vip</td>\n",
       "      <td>INFJESTPESFJISFJENFJINFJ</td>\n",
       "      <td>284.371097</td>\n",
       "    </tr>\n",
       "    <tr>\n",
       "      <th>1</th>\n",
       "      <td>id22id23id26id28id36</td>\n",
       "      <td>188.7</td>\n",
       "      <td>315.0</td>\n",
       "      <td>0</td>\n",
       "      <td>ENFPISTPENFPENTPINTP</td>\n",
       "      <td>299.270973</td>\n",
       "    </tr>\n",
       "    <tr>\n",
       "      <th>2</th>\n",
       "      <td>id29</td>\n",
       "      <td>-13.5</td>\n",
       "      <td>47.0</td>\n",
       "      <td>0</td>\n",
       "      <td>ENTP</td>\n",
       "      <td>67.886373</td>\n",
       "    </tr>\n",
       "    <tr>\n",
       "      <th rowspan=\"3\" valign=\"top\">서울</th>\n",
       "      <th>0</th>\n",
       "      <td>id06id11id13id16</td>\n",
       "      <td>145.0</td>\n",
       "      <td>278.0</td>\n",
       "      <td>vip</td>\n",
       "      <td>INTPENFPESFJESFP</td>\n",
       "      <td>218.528577</td>\n",
       "    </tr>\n",
       "    <tr>\n",
       "      <th>1</th>\n",
       "      <td>id02id03id07id08id10id14id15id20</td>\n",
       "      <td>315.3</td>\n",
       "      <td>534.0</td>\n",
       "      <td>0</td>\n",
       "      <td>ENFJISTJISFJINFJISFPENTJENTPINTJ</td>\n",
       "      <td>438.485010</td>\n",
       "    </tr>\n",
       "    <tr>\n",
       "      <th>2</th>\n",
       "      <td>id05id09id18</td>\n",
       "      <td>68.3</td>\n",
       "      <td>207.0</td>\n",
       "      <td>0</td>\n",
       "      <td>ISFJESFJISFJ</td>\n",
       "      <td>126.661135</td>\n",
       "    </tr>\n",
       "  </tbody>\n",
       "</table>\n",
       "</div>"
      ],
      "text/plain": [
       "                                                        id    age     f1   f3  \\\n",
       "city f2                                                                         \n",
       "경기   0   id69id72id74id75id76id77id80id84id85id88id91id...  720.4  833.0  vip   \n",
       "     1            id63id67id70id78id81id83id89id92id95id96  696.0  670.0  vip   \n",
       "     2                                id61id64id68id71id98  239.0  311.0    0   \n",
       "대구   0                        id40id41id43id45id49id53id57  387.0  527.0    0   \n",
       "     1                                        id47id50id52  217.6  235.0    0   \n",
       "     2                                        id42id55id58  140.0  211.0    0   \n",
       "부산   0                            id24id27id31id32id33id39  331.0  389.0  vip   \n",
       "     1                                id22id23id26id28id36  188.7  315.0    0   \n",
       "     2                                                id29  -13.5   47.0    0   \n",
       "서울   0                                    id06id11id13id16  145.0  278.0  vip   \n",
       "     1                    id02id03id07id08id10id14id15id20  315.3  534.0    0   \n",
       "     2                                        id05id09id18   68.3  207.0    0   \n",
       "\n",
       "                                                        f4          f5  \n",
       "city f2                                                                 \n",
       "경기   0   ESTJESTJESTPESTPENTJINFPISFPINTPINFJESTJINTPIS...  943.944823  \n",
       "     1            ISFJISFJISTPINTJISFJENTPENTJINFPINTJENTJ  657.241212  \n",
       "     2                                INTPESFPISFPISFPINFP  362.300060  \n",
       "대구   0                        ENFPENFJISTPENFJINTPESTPISFJ  183.199568  \n",
       "     1                                        ESTJENFPISFJ  241.333824  \n",
       "     2                                        ESTPENTPESTP   79.667919  \n",
       "부산   0                            INFJESTPESFJISFJENFJINFJ  284.371097  \n",
       "     1                                ENFPISTPENFPENTPINTP  299.270973  \n",
       "     2                                                ENTP   67.886373  \n",
       "서울   0                                    INTPENFPESFJESFP  218.528577  \n",
       "     1                    ENFJISTJISFJINFJISFPENTJENTPINTJ  438.485010  \n",
       "     2                                        ISFJESFJISFJ  126.661135  "
      ]
     },
     "execution_count": 16,
     "metadata": {},
     "output_type": "execute_result"
    }
   ],
   "source": [
    "df2 = df.groupby(['city','f2']).sum()\n",
    "df2"
   ]
  },
  {
   "cell_type": "markdown",
   "metadata": {},
   "source": [
    "방법 1"
   ]
  },
  {
   "cell_type": "code",
   "execution_count": 32,
   "metadata": {},
   "outputs": [
    {
     "data": {
      "text/html": [
       "<div>\n",
       "<style scoped>\n",
       "    .dataframe tbody tr th:only-of-type {\n",
       "        vertical-align: middle;\n",
       "    }\n",
       "\n",
       "    .dataframe tbody tr th {\n",
       "        vertical-align: top;\n",
       "    }\n",
       "\n",
       "    .dataframe thead th {\n",
       "        text-align: right;\n",
       "    }\n",
       "</style>\n",
       "<table border=\"1\" class=\"dataframe\">\n",
       "  <thead>\n",
       "    <tr style=\"text-align: right;\">\n",
       "      <th></th>\n",
       "      <th>city</th>\n",
       "      <th>f2</th>\n",
       "      <th>id</th>\n",
       "      <th>age</th>\n",
       "      <th>f1</th>\n",
       "      <th>f3</th>\n",
       "      <th>f4</th>\n",
       "      <th>f5</th>\n",
       "    </tr>\n",
       "  </thead>\n",
       "  <tbody>\n",
       "    <tr>\n",
       "      <th>0</th>\n",
       "      <td>경기</td>\n",
       "      <td>0</td>\n",
       "      <td>id69id72id74id75id76id77id80id84id85id88id91id...</td>\n",
       "      <td>720.4</td>\n",
       "      <td>833.0</td>\n",
       "      <td>vip</td>\n",
       "      <td>ESTJESTJESTPESTPENTJINFPISFPINTPINFJESTJINTPIS...</td>\n",
       "      <td>943.944823</td>\n",
       "    </tr>\n",
       "    <tr>\n",
       "      <th>1</th>\n",
       "      <td>경기</td>\n",
       "      <td>1</td>\n",
       "      <td>id63id67id70id78id81id83id89id92id95id96</td>\n",
       "      <td>696.0</td>\n",
       "      <td>670.0</td>\n",
       "      <td>vip</td>\n",
       "      <td>ISFJISFJISTPINTJISFJENTPENTJINFPINTJENTJ</td>\n",
       "      <td>657.241212</td>\n",
       "    </tr>\n",
       "    <tr>\n",
       "      <th>2</th>\n",
       "      <td>경기</td>\n",
       "      <td>2</td>\n",
       "      <td>id61id64id68id71id98</td>\n",
       "      <td>239.0</td>\n",
       "      <td>311.0</td>\n",
       "      <td>0</td>\n",
       "      <td>INTPESFPISFPISFPINFP</td>\n",
       "      <td>362.300060</td>\n",
       "    </tr>\n",
       "    <tr>\n",
       "      <th>3</th>\n",
       "      <td>대구</td>\n",
       "      <td>0</td>\n",
       "      <td>id40id41id43id45id49id53id57</td>\n",
       "      <td>387.0</td>\n",
       "      <td>527.0</td>\n",
       "      <td>0</td>\n",
       "      <td>ENFPENFJISTPENFJINTPESTPISFJ</td>\n",
       "      <td>183.199568</td>\n",
       "    </tr>\n",
       "    <tr>\n",
       "      <th>4</th>\n",
       "      <td>대구</td>\n",
       "      <td>1</td>\n",
       "      <td>id47id50id52</td>\n",
       "      <td>217.6</td>\n",
       "      <td>235.0</td>\n",
       "      <td>0</td>\n",
       "      <td>ESTJENFPISFJ</td>\n",
       "      <td>241.333824</td>\n",
       "    </tr>\n",
       "  </tbody>\n",
       "</table>\n",
       "</div>"
      ],
      "text/plain": [
       "  city  f2                                                 id    age     f1  \\\n",
       "0   경기   0  id69id72id74id75id76id77id80id84id85id88id91id...  720.4  833.0   \n",
       "1   경기   1           id63id67id70id78id81id83id89id92id95id96  696.0  670.0   \n",
       "2   경기   2                               id61id64id68id71id98  239.0  311.0   \n",
       "3   대구   0                       id40id41id43id45id49id53id57  387.0  527.0   \n",
       "4   대구   1                                       id47id50id52  217.6  235.0   \n",
       "\n",
       "    f3                                                 f4          f5  \n",
       "0  vip  ESTJESTJESTPESTPENTJINFPISFPINTPINFJESTJINTPIS...  943.944823  \n",
       "1  vip           ISFJISFJISTPINTJISFJENTPENTJINFPINTJENTJ  657.241212  \n",
       "2    0                               INTPESFPISFPISFPINFP  362.300060  \n",
       "3    0                       ENFPENFJISTPENFJINTPESTPISFJ  183.199568  \n",
       "4    0                                       ESTJENFPISFJ  241.333824  "
      ]
     },
     "execution_count": 32,
     "metadata": {},
     "output_type": "execute_result"
    }
   ],
   "source": [
    "#df2는 groupby로 묶었으므로 데이터프레임이 아닌 시리즈로 구성됨. 따라서 데이터프레임으로 변환하는 과정이 필요함.\n",
    "df3 = pd.DataFrame(df2)\n",
    "df3 = df3.reset_index()\n",
    "df3.head()"
   ]
  },
  {
   "cell_type": "code",
   "execution_count": 44,
   "metadata": {},
   "outputs": [
    {
     "data": {
      "text/plain": [
       "833.0"
      ]
     },
     "execution_count": 44,
     "metadata": {},
     "output_type": "execute_result"
    }
   ],
   "source": [
    "answer = df3[df3['city']=='경기']\n",
    "answer = answer[answer['f2']==0]['f1'].sum()\n",
    "answer"
   ]
  },
  {
   "cell_type": "markdown",
   "metadata": {},
   "source": [
    "방법 2"
   ]
  },
  {
   "cell_type": "code",
   "execution_count": 33,
   "metadata": {},
   "outputs": [
    {
     "name": "stdout",
     "output_type": "stream",
     "text": [
      "833.0\n"
     ]
    }
   ],
   "source": [
    "print(df2.iloc[0]['f1'])"
   ]
  }
 ],
 "metadata": {
  "kernelspec": {
   "display_name": "Python 3",
   "language": "python",
   "name": "python3"
  },
  "language_info": {
   "codemirror_mode": {
    "name": "ipython",
    "version": 3
   },
   "file_extension": ".py",
   "mimetype": "text/x-python",
   "name": "python",
   "nbconvert_exporter": "python",
   "pygments_lexer": "ipython3",
   "version": "3.11.3"
  }
 },
 "nbformat": 4,
 "nbformat_minor": 2
}
