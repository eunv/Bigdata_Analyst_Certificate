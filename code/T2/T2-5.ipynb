{
 "cells": [
  {
   "cell_type": "code",
   "execution_count": 19,
   "metadata": {},
   "outputs": [
    {
     "data": {
      "text/plain": [
       "((1070, 7), (268, 7), (1070, 2), (268, 2))"
      ]
     },
     "execution_count": 19,
     "metadata": {},
     "output_type": "execute_result"
    }
   ],
   "source": [
    "# 시험환경 세팅 (코드 변경 X)\n",
    "import pandas as pd\n",
    "import numpy as np\n",
    "from sklearn.model_selection import train_test_split\n",
    "\n",
    "def exam_data_load(df, target, id_name=\"\", null_name=\"\"):\n",
    "    if id_name == \"\":\n",
    "        df = df.reset_index().rename(columns={\"index\": \"id\"})\n",
    "        id_name = 'id'\n",
    "    else:\n",
    "        id_name = id_name\n",
    "    \n",
    "    if null_name != \"\":\n",
    "        df[df == null_name] = np.nan\n",
    "    \n",
    "    X_train, X_test = train_test_split(df, test_size=0.2, random_state=2021)\n",
    "    \n",
    "    y_train = X_train[[id_name, target]]\n",
    "    X_train = X_train.drop(columns=[target])\n",
    "\n",
    "    \n",
    "    y_test = X_test[[id_name, target]]\n",
    "    X_test = X_test.drop(columns=[target])\n",
    "    return X_train, X_test, y_train, y_test \n",
    "    \n",
    "df = pd.read_csv(\"../../Datasat/insurance/insurance.csv\")\n",
    "X_train, X_test, y_train, y_test = exam_data_load(df, target='charges')\n",
    "\n",
    "X_train.shape, X_test.shape, y_train.shape, y_test.shape"
   ]
  },
  {
   "cell_type": "code",
   "execution_count": 20,
   "metadata": {},
   "outputs": [
    {
     "name": "stdout",
     "output_type": "stream",
     "text": [
      "<class 'pandas.core.frame.DataFrame'>\n",
      "Index: 1070 entries, 209 to 1140\n",
      "Data columns (total 7 columns):\n",
      " #   Column    Non-Null Count  Dtype  \n",
      "---  ------    --------------  -----  \n",
      " 0   id        1070 non-null   int64  \n",
      " 1   age       1070 non-null   int64  \n",
      " 2   sex       1070 non-null   object \n",
      " 3   bmi       1070 non-null   float64\n",
      " 4   children  1070 non-null   int64  \n",
      " 5   smoker    1070 non-null   object \n",
      " 6   region    1070 non-null   object \n",
      "dtypes: float64(1), int64(3), object(3)\n",
      "memory usage: 66.9+ KB\n"
     ]
    }
   ],
   "source": [
    "X_train.info()"
   ]
  },
  {
   "cell_type": "code",
   "execution_count": 21,
   "metadata": {},
   "outputs": [
    {
     "name": "stdout",
     "output_type": "stream",
     "text": [
      "<class 'pandas.core.frame.DataFrame'>\n",
      "Index: 268 entries, 1088 to 116\n",
      "Data columns (total 7 columns):\n",
      " #   Column    Non-Null Count  Dtype  \n",
      "---  ------    --------------  -----  \n",
      " 0   id        268 non-null    int64  \n",
      " 1   age       268 non-null    int64  \n",
      " 2   sex       268 non-null    object \n",
      " 3   bmi       268 non-null    float64\n",
      " 4   children  268 non-null    int64  \n",
      " 5   smoker    268 non-null    object \n",
      " 6   region    268 non-null    object \n",
      "dtypes: float64(1), int64(3), object(3)\n",
      "memory usage: 16.8+ KB\n"
     ]
    }
   ],
   "source": [
    "X_test.info()"
   ]
  },
  {
   "cell_type": "code",
   "execution_count": 22,
   "metadata": {},
   "outputs": [
    {
     "data": {
      "text/plain": [
       "id          0\n",
       "age         0\n",
       "sex         0\n",
       "bmi         0\n",
       "children    0\n",
       "smoker      0\n",
       "region      0\n",
       "dtype: int64"
      ]
     },
     "execution_count": 22,
     "metadata": {},
     "output_type": "execute_result"
    }
   ],
   "source": [
    "# X_train.isnull().sum()\n",
    "X_test.isnull().sum()"
   ]
  },
  {
   "cell_type": "code",
   "execution_count": 23,
   "metadata": {},
   "outputs": [],
   "source": [
    "X_train = pd.get_dummies(X_train)\n",
    "X_test = pd.get_dummies(X_test)"
   ]
  },
  {
   "cell_type": "code",
   "execution_count": 24,
   "metadata": {},
   "outputs": [
    {
     "data": {
      "text/html": [
       "<div>\n",
       "<style scoped>\n",
       "    .dataframe tbody tr th:only-of-type {\n",
       "        vertical-align: middle;\n",
       "    }\n",
       "\n",
       "    .dataframe tbody tr th {\n",
       "        vertical-align: top;\n",
       "    }\n",
       "\n",
       "    .dataframe thead th {\n",
       "        text-align: right;\n",
       "    }\n",
       "</style>\n",
       "<table border=\"1\" class=\"dataframe\">\n",
       "  <thead>\n",
       "    <tr style=\"text-align: right;\">\n",
       "      <th></th>\n",
       "      <th>id</th>\n",
       "      <th>age</th>\n",
       "      <th>bmi</th>\n",
       "      <th>children</th>\n",
       "      <th>sex_female</th>\n",
       "      <th>sex_male</th>\n",
       "      <th>smoker_no</th>\n",
       "      <th>smoker_yes</th>\n",
       "      <th>region_northeast</th>\n",
       "      <th>region_northwest</th>\n",
       "      <th>region_southeast</th>\n",
       "      <th>region_southwest</th>\n",
       "    </tr>\n",
       "  </thead>\n",
       "  <tbody>\n",
       "    <tr>\n",
       "      <th>209</th>\n",
       "      <td>209</td>\n",
       "      <td>40</td>\n",
       "      <td>41.230</td>\n",
       "      <td>1</td>\n",
       "      <td>False</td>\n",
       "      <td>True</td>\n",
       "      <td>True</td>\n",
       "      <td>False</td>\n",
       "      <td>True</td>\n",
       "      <td>False</td>\n",
       "      <td>False</td>\n",
       "      <td>False</td>\n",
       "    </tr>\n",
       "    <tr>\n",
       "      <th>540</th>\n",
       "      <td>540</td>\n",
       "      <td>34</td>\n",
       "      <td>38.000</td>\n",
       "      <td>3</td>\n",
       "      <td>True</td>\n",
       "      <td>False</td>\n",
       "      <td>True</td>\n",
       "      <td>False</td>\n",
       "      <td>False</td>\n",
       "      <td>False</td>\n",
       "      <td>False</td>\n",
       "      <td>True</td>\n",
       "    </tr>\n",
       "    <tr>\n",
       "      <th>747</th>\n",
       "      <td>747</td>\n",
       "      <td>19</td>\n",
       "      <td>21.755</td>\n",
       "      <td>0</td>\n",
       "      <td>False</td>\n",
       "      <td>True</td>\n",
       "      <td>True</td>\n",
       "      <td>False</td>\n",
       "      <td>False</td>\n",
       "      <td>True</td>\n",
       "      <td>False</td>\n",
       "      <td>False</td>\n",
       "    </tr>\n",
       "    <tr>\n",
       "      <th>39</th>\n",
       "      <td>39</td>\n",
       "      <td>60</td>\n",
       "      <td>39.900</td>\n",
       "      <td>0</td>\n",
       "      <td>False</td>\n",
       "      <td>True</td>\n",
       "      <td>False</td>\n",
       "      <td>True</td>\n",
       "      <td>False</td>\n",
       "      <td>False</td>\n",
       "      <td>False</td>\n",
       "      <td>True</td>\n",
       "    </tr>\n",
       "    <tr>\n",
       "      <th>640</th>\n",
       "      <td>640</td>\n",
       "      <td>33</td>\n",
       "      <td>42.400</td>\n",
       "      <td>5</td>\n",
       "      <td>False</td>\n",
       "      <td>True</td>\n",
       "      <td>True</td>\n",
       "      <td>False</td>\n",
       "      <td>False</td>\n",
       "      <td>False</td>\n",
       "      <td>False</td>\n",
       "      <td>True</td>\n",
       "    </tr>\n",
       "  </tbody>\n",
       "</table>\n",
       "</div>"
      ],
      "text/plain": [
       "      id  age     bmi  children  sex_female  sex_male  smoker_no  smoker_yes  \\\n",
       "209  209   40  41.230         1       False      True       True       False   \n",
       "540  540   34  38.000         3        True     False       True       False   \n",
       "747  747   19  21.755         0       False      True       True       False   \n",
       "39    39   60  39.900         0       False      True      False        True   \n",
       "640  640   33  42.400         5       False      True       True       False   \n",
       "\n",
       "     region_northeast  region_northwest  region_southeast  region_southwest  \n",
       "209              True             False             False             False  \n",
       "540             False             False             False              True  \n",
       "747             False              True             False             False  \n",
       "39              False             False             False              True  \n",
       "640             False             False             False              True  "
      ]
     },
     "execution_count": 24,
     "metadata": {},
     "output_type": "execute_result"
    }
   ],
   "source": [
    "X_train.head()"
   ]
  },
  {
   "cell_type": "code",
   "execution_count": 25,
   "metadata": {},
   "outputs": [],
   "source": [
    "X_train = X_train.drop(columns=['id'],axis=1)\n",
    "X_test = X_test.drop(columns=['id'],axis=1)\n"
   ]
  },
  {
   "cell_type": "code",
   "execution_count": 26,
   "metadata": {},
   "outputs": [
    {
     "data": {
      "text/html": [
       "<div>\n",
       "<style scoped>\n",
       "    .dataframe tbody tr th:only-of-type {\n",
       "        vertical-align: middle;\n",
       "    }\n",
       "\n",
       "    .dataframe tbody tr th {\n",
       "        vertical-align: top;\n",
       "    }\n",
       "\n",
       "    .dataframe thead th {\n",
       "        text-align: right;\n",
       "    }\n",
       "</style>\n",
       "<table border=\"1\" class=\"dataframe\">\n",
       "  <thead>\n",
       "    <tr style=\"text-align: right;\">\n",
       "      <th></th>\n",
       "      <th>age</th>\n",
       "      <th>bmi</th>\n",
       "      <th>children</th>\n",
       "      <th>sex_female</th>\n",
       "      <th>sex_male</th>\n",
       "      <th>smoker_no</th>\n",
       "      <th>smoker_yes</th>\n",
       "      <th>region_northeast</th>\n",
       "      <th>region_northwest</th>\n",
       "      <th>region_southeast</th>\n",
       "      <th>region_southwest</th>\n",
       "    </tr>\n",
       "  </thead>\n",
       "  <tbody>\n",
       "    <tr>\n",
       "      <th>209</th>\n",
       "      <td>40</td>\n",
       "      <td>41.230</td>\n",
       "      <td>1</td>\n",
       "      <td>False</td>\n",
       "      <td>True</td>\n",
       "      <td>True</td>\n",
       "      <td>False</td>\n",
       "      <td>True</td>\n",
       "      <td>False</td>\n",
       "      <td>False</td>\n",
       "      <td>False</td>\n",
       "    </tr>\n",
       "    <tr>\n",
       "      <th>540</th>\n",
       "      <td>34</td>\n",
       "      <td>38.000</td>\n",
       "      <td>3</td>\n",
       "      <td>True</td>\n",
       "      <td>False</td>\n",
       "      <td>True</td>\n",
       "      <td>False</td>\n",
       "      <td>False</td>\n",
       "      <td>False</td>\n",
       "      <td>False</td>\n",
       "      <td>True</td>\n",
       "    </tr>\n",
       "    <tr>\n",
       "      <th>747</th>\n",
       "      <td>19</td>\n",
       "      <td>21.755</td>\n",
       "      <td>0</td>\n",
       "      <td>False</td>\n",
       "      <td>True</td>\n",
       "      <td>True</td>\n",
       "      <td>False</td>\n",
       "      <td>False</td>\n",
       "      <td>True</td>\n",
       "      <td>False</td>\n",
       "      <td>False</td>\n",
       "    </tr>\n",
       "    <tr>\n",
       "      <th>39</th>\n",
       "      <td>60</td>\n",
       "      <td>39.900</td>\n",
       "      <td>0</td>\n",
       "      <td>False</td>\n",
       "      <td>True</td>\n",
       "      <td>False</td>\n",
       "      <td>True</td>\n",
       "      <td>False</td>\n",
       "      <td>False</td>\n",
       "      <td>False</td>\n",
       "      <td>True</td>\n",
       "    </tr>\n",
       "    <tr>\n",
       "      <th>640</th>\n",
       "      <td>33</td>\n",
       "      <td>42.400</td>\n",
       "      <td>5</td>\n",
       "      <td>False</td>\n",
       "      <td>True</td>\n",
       "      <td>True</td>\n",
       "      <td>False</td>\n",
       "      <td>False</td>\n",
       "      <td>False</td>\n",
       "      <td>False</td>\n",
       "      <td>True</td>\n",
       "    </tr>\n",
       "  </tbody>\n",
       "</table>\n",
       "</div>"
      ],
      "text/plain": [
       "     age     bmi  children  sex_female  sex_male  smoker_no  smoker_yes  \\\n",
       "209   40  41.230         1       False      True       True       False   \n",
       "540   34  38.000         3        True     False       True       False   \n",
       "747   19  21.755         0       False      True       True       False   \n",
       "39    60  39.900         0       False      True      False        True   \n",
       "640   33  42.400         5       False      True       True       False   \n",
       "\n",
       "     region_northeast  region_northwest  region_southeast  region_southwest  \n",
       "209              True             False             False             False  \n",
       "540             False             False             False              True  \n",
       "747             False              True             False             False  \n",
       "39              False             False             False              True  \n",
       "640             False             False             False              True  "
      ]
     },
     "execution_count": 26,
     "metadata": {},
     "output_type": "execute_result"
    }
   ],
   "source": [
    "X_train.head()"
   ]
  },
  {
   "cell_type": "code",
   "execution_count": 27,
   "metadata": {},
   "outputs": [
    {
     "name": "stdout",
     "output_type": "stream",
     "text": [
      "<class 'pandas.core.frame.DataFrame'>\n",
      "Index: 1070 entries, 209 to 1140\n",
      "Data columns (total 2 columns):\n",
      " #   Column   Non-Null Count  Dtype  \n",
      "---  ------   --------------  -----  \n",
      " 0   id       1070 non-null   int64  \n",
      " 1   charges  1070 non-null   float64\n",
      "dtypes: float64(1), int64(1)\n",
      "memory usage: 25.1 KB\n"
     ]
    }
   ],
   "source": [
    "y_train.info()"
   ]
  },
  {
   "cell_type": "code",
   "execution_count": 28,
   "metadata": {},
   "outputs": [],
   "source": [
    "y = y_train['charges']"
   ]
  },
  {
   "cell_type": "code",
   "execution_count": 31,
   "metadata": {},
   "outputs": [
    {
     "data": {
      "text/plain": [
       "array([12870.8783869 ,  6284.3501011 , 34266.74027   ,  3325.6990602 ,\n",
       "       17323.7293313 ,  4304.1916129 ,  9931.982062  , 15449.4416344 ,\n",
       "        2273.352661  , 14506.840433  , 14582.4059046 , 12624.7959201 ,\n",
       "       11791.1275721 , 10986.7418965 ,  3024.2654186 , 16920.0235832 ,\n",
       "       14217.0732729 ,  3084.7879    ,  2451.2641315 , 12701.9572333 ,\n",
       "       10271.4883215 ,  7315.3153929 ,  2194.5090352 , 19287.4984108 ,\n",
       "        9458.7020215 , 11701.5371876 ,  5479.503787  ,  6899.4553631 ,\n",
       "       16909.4527801 ,  4797.5220337 ,  6990.4827065 ,  5852.277905  ,\n",
       "       14836.4998108 , 17008.3572991 ,  8689.5739998 , 14623.69584283,\n",
       "        3490.2156302 , 42165.0603206 ,  8910.8907929 ,  8912.0568775 ,\n",
       "       11504.25474   ,  1741.2711285 ,  2979.7941501 , 12738.9837897 ,\n",
       "        9616.2578224 ,  2419.5654003 , 19464.4916835 , 14677.877838  ,\n",
       "       44944.0190587 ,  3127.8851425 ,  5579.3033551 ,  4697.248055  ,\n",
       "        9261.7403204 , 38934.816812  ,  1591.5973815 , 15506.6580843 ,\n",
       "        4091.0207615 ,  6903.9421503 , 23393.8205835 ,  7451.1161135 ,\n",
       "        8140.6481807 ,  7184.4783454 , 12501.9406362 , 12374.517209  ,\n",
       "        4217.5001611 , 10791.7674673 ,  4570.1056568 ,  1811.1121325 ,\n",
       "       43577.6957576 ,  4883.1466937 ,  9170.5399922 , 18142.0611322 ,\n",
       "       19836.7454234 ,  6667.7540185 ,  8197.5792296 , 25073.3991123 ,\n",
       "        6004.1632499 ,  3297.786399  , 19815.2276158 , 11321.8572379 ,\n",
       "        3072.3986489 ,  4799.318678  ,  3154.3201383 , 20848.5514135 ,\n",
       "        9724.4399875 ,  5615.883583  ,  6951.2721665 , 53962.7328636 ,\n",
       "        3121.178418  ,  4923.5210824 ,  7530.4362747 ,  9510.1215826 ,\n",
       "       13502.4851015 ,  9875.7575416 ,  5851.9286789 , 38799.4685078 ,\n",
       "        6054.4697987 ,  5332.7928086 ,  6979.2622788 ,  2238.55775376,\n",
       "       49156.589289  ,  6154.8017801 ,  6348.6457144 ,  9981.1498335 ,\n",
       "       12557.9468427 , 12046.1905648 ,  6104.5779067 ,  3049.0202252 ,\n",
       "       28230.1513095 ,  6357.6093742 , 12003.5845238 ,  9503.1932299 ,\n",
       "       15177.8615577 , 16279.2856007 , 10303.5943483 ,  7179.0847052 ,\n",
       "        2044.4582675 , 47777.1980188 , 13074.9355439 , 11722.128289  ,\n",
       "       10021.3311688 , 11524.9017324 , 11906.7734392 , 42246.0674982 ,\n",
       "       20085.1354755 ,  4085.1703586 ,  3452.5354424 , 43879.7782525 ,\n",
       "       23441.765935  ,  7673.5715766 , 45917.4554862 ,  4919.3245755 ,\n",
       "        2375.944296  , 13515.6940061 , 14862.225922  ,  9487.567875  ,\n",
       "       13415.2418797 , 11149.1584385 , 23599.2921335 ,  4501.1960328 ,\n",
       "       11004.3599931 , 10197.2009259 , 17380.534863  , 10800.4356025 ,\n",
       "        6156.6559819 , 16452.9774428 ,  3470.9158271 ,  7513.7915519 ,\n",
       "        6494.61376   , 13246.5150244 , 11987.8601938 ,  1962.1976015 ,\n",
       "        6608.9110268 ,  6863.6276554 ,  9095.7740214 , 16207.7214513 ,\n",
       "       18108.6729062 ,  4556.25323   ,  9920.1977776 ,  9113.8748785 ,\n",
       "        7802.7668641 , 47064.538291  , 22468.5179461 , 13549.4107815 ,\n",
       "       15408.7460809 , 35239.8524135 , 21955.5659857 ,  2507.7384494 ,\n",
       "        7865.1021855 ,  3803.2182095 ,  2680.623318  ,  9587.8559311 ,\n",
       "       12471.3995033 , 18165.2932488 ,  3570.4495902 , 12631.1155573 ,\n",
       "        7939.5005496 , 16397.9904548 ,  7470.2669025 ,  8019.8420182 ,\n",
       "       13587.189644  ,  1699.533516  ,  2826.53404109,  3709.7166149 ,\n",
       "        5131.1785252 ,  9621.8899198 , 15314.4052579 ,  8457.964172  ,\n",
       "        6585.4948365 , 17522.8281927 ,  5870.5329295 , 12937.6713456 ,\n",
       "       17883.970208  ,  7485.3720229 ,  5289.657955  , 34389.0176465 ,\n",
       "        7581.14768   , 13413.5140187 ,  2312.477587  , 19348.7983747 ,\n",
       "        9839.3055176 , 35238.1559395 ,  6884.1085874 ,  1699.533516  ,\n",
       "       17902.8367884 ,  7959.7525428 ,  2843.9963524 ,  7783.2825945 ,\n",
       "       29070.9244976 ,  8183.4851223 ,  2253.31788807, 47974.4053051 ,\n",
       "        3146.394764  ,  1663.0716945 , 13836.3300245 , 50495.4277884 ,\n",
       "       11397.0097971 , 13709.2159365 , 18700.807194  ,  9836.7319192 ,\n",
       "        5316.2227974 , 11110.4850085 , 12370.2567129 ,  4293.9230292 ,\n",
       "       10280.5449045 ,  3591.1615243 ,  9140.2737869 ,  2362.7968695 ,\n",
       "       10730.6837782 ,  3999.5376467 ,  3273.680263  , 46800.4990375 ,\n",
       "        7757.7758888 , 47754.6834825 ,  6451.8434281 , 41209.7290505 ,\n",
       "       23175.7968561 ,  3558.3254989 , 14491.6689691 , 47002.3216737 ,\n",
       "       13479.5667617 ,  1754.6022855 , 14532.7007563 , 15756.2445236 ,\n",
       "        4525.8034695 , 10473.1867885 , 40784.8979897 , 11754.6489607 ,\n",
       "       12239.812429  , 11646.986913  , 15494.2084381 ,  3215.5703069 ,\n",
       "       45008.7290658 , 15144.7326903 ,  8854.782466  , 33945.966733  ,\n",
       "        3898.5105416 ,  1317.5010125 , 17504.4691998 ,  4766.7749971 ,\n",
       "        5057.9012569 ,  7970.9022229 ,  9002.1190585 , 11372.2422601 ,\n",
       "       13337.3207901 ,  6567.3515803 , 14881.1903934 , 11611.0362974 ])"
      ]
     },
     "execution_count": 31,
     "metadata": {},
     "output_type": "execute_result"
    }
   ],
   "source": [
    "from sklearn.ensemble import RandomForestRegressor\n",
    "model = RandomForestRegressor()\n",
    "model.fit(X_train, y_train['charges'])\n",
    "\n",
    "pred = model.predict(X_test)\n",
    "pred"
   ]
  },
  {
   "cell_type": "code",
   "execution_count": 32,
   "metadata": {},
   "outputs": [
    {
     "data": {
      "text/plain": [
       "0.9779286360417192"
      ]
     },
     "execution_count": 32,
     "metadata": {},
     "output_type": "execute_result"
    }
   ],
   "source": [
    "model.score(X_train, y)"
   ]
  }
 ],
 "metadata": {
  "kernelspec": {
   "display_name": "Python 3",
   "language": "python",
   "name": "python3"
  },
  "language_info": {
   "codemirror_mode": {
    "name": "ipython",
    "version": 3
   },
   "file_extension": ".py",
   "mimetype": "text/x-python",
   "name": "python",
   "nbconvert_exporter": "python",
   "pygments_lexer": "ipython3",
   "version": "3.11.3"
  }
 },
 "nbformat": 4,
 "nbformat_minor": 2
}
