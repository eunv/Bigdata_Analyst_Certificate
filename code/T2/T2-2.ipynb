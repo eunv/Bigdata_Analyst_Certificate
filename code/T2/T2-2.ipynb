{
 "cells": [
  {
   "cell_type": "markdown",
   "metadata": {},
   "source": [
    "Pima Indians Diabetes(피마 인디언 당뇨병)"
   ]
  },
  {
   "cell_type": "code",
   "execution_count": 15,
   "metadata": {},
   "outputs": [
    {
     "data": {
      "text/plain": [
       "((614, 9), (154, 9), (614, 2), (154, 2))"
      ]
     },
     "execution_count": 15,
     "metadata": {},
     "output_type": "execute_result"
    }
   ],
   "source": [
    "# 시험환경 세팅 (코드 변경 X)\n",
    "import pandas as pd\n",
    "import numpy as np\n",
    "from sklearn.model_selection import train_test_split\n",
    "\n",
    "def exam_data_load(df, target, id_name=\"\", null_name=\"\"):\n",
    "    if id_name == \"\":\n",
    "        df = df.reset_index().rename(columns={\"index\": \"id\"})\n",
    "        id_name = 'id'\n",
    "    else:\n",
    "        id_name = id_name\n",
    "    \n",
    "    if null_name != \"\":\n",
    "        df[df == null_name] = np.nan\n",
    "    \n",
    "    X_train, X_test = train_test_split(df, test_size=0.2, random_state=2021)\n",
    "    \n",
    "    y_train = X_train[[id_name, target]]\n",
    "    X_train = X_train.drop(columns=[target])\n",
    "\n",
    "    \n",
    "    y_test = X_test[[id_name, target]]\n",
    "    X_test = X_test.drop(columns=[target])\n",
    "    return X_train, X_test, y_train, y_test \n",
    "    \n",
    "df = pd.read_csv(\"../../Datasat/T2-2/diabetes.csv\")\n",
    "X_train, X_test, y_train, y_test = exam_data_load(df, target='Outcome')\n",
    "\n",
    "X_train.shape, X_test.shape, y_train.shape, y_test.shape"
   ]
  },
  {
   "cell_type": "markdown",
   "metadata": {},
   "source": [
    "2. EDA"
   ]
  },
  {
   "cell_type": "code",
   "execution_count": 16,
   "metadata": {},
   "outputs": [
    {
     "name": "stdout",
     "output_type": "stream",
     "text": [
      "      id  Pregnancies  Glucose  BloodPressure  SkinThickness  Insulin   BMI  \\\n",
      "147  147            2      106             64             35      119  30.5   \n",
      "344  344            8       95             72              0        0  36.8   \n",
      "390  390            1      100             66             29      196  32.0   \n",
      "150  150            1      136             74             50      204  37.4   \n",
      "132  132            3      170             64             37      225  34.5   \n",
      "\n",
      "     DiabetesPedigreeFunction  Age  \n",
      "147                     1.400   34  \n",
      "344                     0.485   57  \n",
      "390                     0.444   42  \n",
      "150                     0.399   24  \n",
      "132                     0.356   30  \n",
      "      id  Pregnancies  Glucose  BloodPressure  SkinThickness  Insulin   BMI  \\\n",
      "258  258            1      193             50             16      375  25.9   \n",
      "220  220            0      177             60             29      478  34.6   \n",
      "438  438            1       97             70             15        0  18.2   \n",
      "130  130            4      173             70             14      168  29.7   \n",
      "730  730            3      130             78             23       79  28.4   \n",
      "\n",
      "     DiabetesPedigreeFunction  Age  \n",
      "258                     0.655   24  \n",
      "220                     1.072   21  \n",
      "438                     0.147   21  \n",
      "130                     0.361   33  \n",
      "730                     0.323   34  \n",
      "      id  Outcome\n",
      "147  147        0\n",
      "344  344        0\n",
      "390  390        0\n",
      "150  150        0\n",
      "132  132        1\n"
     ]
    }
   ],
   "source": [
    "print(X_train.head())\n",
    "print(X_test.head())\n",
    "print(y_train.head())"
   ]
  },
  {
   "cell_type": "code",
   "execution_count": 17,
   "metadata": {},
   "outputs": [
    {
     "name": "stdout",
     "output_type": "stream",
     "text": [
      "<class 'pandas.core.frame.DataFrame'>\n",
      "Index: 614 entries, 147 to 116\n",
      "Data columns (total 9 columns):\n",
      " #   Column                    Non-Null Count  Dtype  \n",
      "---  ------                    --------------  -----  \n",
      " 0   id                        614 non-null    int64  \n",
      " 1   Pregnancies               614 non-null    int64  \n",
      " 2   Glucose                   614 non-null    int64  \n",
      " 3   BloodPressure             614 non-null    int64  \n",
      " 4   SkinThickness             614 non-null    int64  \n",
      " 5   Insulin                   614 non-null    int64  \n",
      " 6   BMI                       614 non-null    float64\n",
      " 7   DiabetesPedigreeFunction  614 non-null    float64\n",
      " 8   Age                       614 non-null    int64  \n",
      "dtypes: float64(2), int64(7)\n",
      "memory usage: 48.0 KB\n",
      "None\n",
      "<class 'pandas.core.frame.DataFrame'>\n",
      "Index: 154 entries, 258 to 174\n",
      "Data columns (total 9 columns):\n",
      " #   Column                    Non-Null Count  Dtype  \n",
      "---  ------                    --------------  -----  \n",
      " 0   id                        154 non-null    int64  \n",
      " 1   Pregnancies               154 non-null    int64  \n",
      " 2   Glucose                   154 non-null    int64  \n",
      " 3   BloodPressure             154 non-null    int64  \n",
      " 4   SkinThickness             154 non-null    int64  \n",
      " 5   Insulin                   154 non-null    int64  \n",
      " 6   BMI                       154 non-null    float64\n",
      " 7   DiabetesPedigreeFunction  154 non-null    float64\n",
      " 8   Age                       154 non-null    int64  \n",
      "dtypes: float64(2), int64(7)\n",
      "memory usage: 12.0 KB\n",
      "None\n",
      "<class 'pandas.core.frame.DataFrame'>\n",
      "Index: 614 entries, 147 to 116\n",
      "Data columns (total 2 columns):\n",
      " #   Column   Non-Null Count  Dtype\n",
      "---  ------   --------------  -----\n",
      " 0   id       614 non-null    int64\n",
      " 1   Outcome  614 non-null    int64\n",
      "dtypes: int64(2)\n",
      "memory usage: 14.4 KB\n",
      "None\n"
     ]
    }
   ],
   "source": [
    "print(X_train.info())\n",
    "print(X_test.info())\n",
    "print(y_train.info())"
   ]
  },
  {
   "cell_type": "code",
   "execution_count": 18,
   "metadata": {},
   "outputs": [
    {
     "name": "stdout",
     "output_type": "stream",
     "text": [
      "               id  Pregnancies     Glucose  BloodPressure  SkinThickness  \\\n",
      "count  614.000000   614.000000  614.000000     614.000000     614.000000   \n",
      "mean   386.978827     3.845277  120.705212      68.530945      20.982085   \n",
      "std    219.881344     3.388952   32.047977      19.761915      15.965031   \n",
      "min      0.000000     0.000000    0.000000       0.000000       0.000000   \n",
      "25%    196.500000     1.000000   99.000000      62.000000       0.000000   \n",
      "50%    388.000000     3.000000  117.000000      72.000000      23.000000   \n",
      "75%    575.750000     6.000000  140.000000      80.000000      33.000000   \n",
      "max    766.000000    17.000000  199.000000     114.000000      99.000000   \n",
      "\n",
      "          Insulin         BMI  DiabetesPedigreeFunction         Age  \n",
      "count  614.000000  614.000000                614.000000  614.000000  \n",
      "mean    82.229642   31.948534                  0.477471   33.319218  \n",
      "std    116.525772    7.734385                  0.339811   11.940953  \n",
      "min      0.000000    0.000000                  0.078000   21.000000  \n",
      "25%      0.000000   27.400000                  0.244250   24.000000  \n",
      "50%     44.000000   32.250000                  0.377000   29.000000  \n",
      "75%    130.000000   36.600000                  0.628500   41.000000  \n",
      "max    846.000000   59.400000                  2.420000   81.000000  \n",
      "               id  Pregnancies     Glucose  BloodPressure  SkinThickness  \\\n",
      "count  154.000000   154.000000  154.000000     154.000000     154.000000   \n",
      "mean   369.629870     3.844156  121.649351      71.396104      18.759740   \n",
      "std    229.725752     3.302069   31.762915      17.516908      15.827937   \n",
      "min      1.000000     0.000000   44.000000       0.000000       0.000000   \n",
      "25%    174.750000     1.000000   99.250000      64.000000       0.000000   \n",
      "50%    374.500000     3.000000  117.500000      72.000000      19.500000   \n",
      "75%    571.250000     6.000000  141.500000      80.000000      31.000000   \n",
      "max    767.000000    13.000000  197.000000     122.000000      56.000000   \n",
      "\n",
      "          Insulin         BMI  DiabetesPedigreeFunction         Age  \n",
      "count  154.000000  154.000000                154.000000  154.000000  \n",
      "mean    70.110390   32.168182                  0.449571   32.928571  \n",
      "std    109.815982    8.479377                  0.295059   11.041873  \n",
      "min      0.000000    0.000000                  0.088000   21.000000  \n",
      "25%      0.000000   27.100000                  0.240750   24.000000  \n",
      "50%      0.000000   31.950000                  0.363500   29.000000  \n",
      "75%    109.000000   36.275000                  0.600750   39.000000  \n",
      "max    543.000000   67.100000                  1.893000   70.000000  \n"
     ]
    }
   ],
   "source": [
    "print(X_train.describe())\n",
    "print(X_test.describe())\n",
    "\n"
   ]
  },
  {
   "cell_type": "markdown",
   "metadata": {},
   "source": [
    "3. 데이터 전처리, 분리"
   ]
  },
  {
   "cell_type": "code",
   "execution_count": 19,
   "metadata": {},
   "outputs": [
    {
     "name": "stdout",
     "output_type": "stream",
     "text": [
      "Glucose 5\n",
      "BloodPressure 31\n",
      "SkinThickness 175\n",
      "Insulin 287\n",
      "BMI 9\n"
     ]
    }
   ],
   "source": [
    "#train\n",
    "print('Glucose', len(X_train[X_train['Glucose']==0]))\n",
    "print('BloodPressure', len(X_train[X_train['BloodPressure']==0]))\n",
    "print('SkinThickness', len(X_train[X_train['SkinThickness']==0]))\n",
    "print('Insulin', len(X_train[X_train['Insulin']==0]))\n",
    "print('BMI', len(X_train[X_train['BMI']==0]))\n"
   ]
  },
  {
   "cell_type": "code",
   "execution_count": 20,
   "metadata": {},
   "outputs": [
    {
     "name": "stdout",
     "output_type": "stream",
     "text": [
      "Glucose 0\n",
      "BloodPressure 4\n",
      "SkinThickness 52\n",
      "Insulin 87\n",
      "BMI 2\n"
     ]
    }
   ],
   "source": [
    "#test\n",
    "print('Glucose', len(X_test[X_test['Glucose']==0]))\n",
    "print('BloodPressure', len(X_test[X_test['BloodPressure']==0]))\n",
    "print('SkinThickness', len(X_test[X_test['SkinThickness']==0]))\n",
    "print('Insulin', len(X_test[X_test['Insulin']==0]))\n",
    "print('BMI', len(X_test[X_test['BMI']==0]))"
   ]
  },
  {
   "cell_type": "code",
   "execution_count": 21,
   "metadata": {},
   "outputs": [
    {
     "data": {
      "text/plain": [
       "Index([182, 75, 342, 502, 349], dtype='int64')"
      ]
     },
     "execution_count": 21,
     "metadata": {},
     "output_type": "execute_result"
    }
   ],
   "source": [
    "#포도당 이상치 삭제\n",
    "del_idx = X_train[X_train['Glucose']==0].index\n",
    "del_idx"
   ]
  },
  {
   "cell_type": "code",
   "execution_count": 22,
   "metadata": {},
   "outputs": [
    {
     "name": "stdout",
     "output_type": "stream",
     "text": [
      "Glucose 이상치 삭제 전:  (614, 9) (614, 2)\n",
      "Glucose 이상치 삭제 후 :  (609, 9) (609, 2)\n"
     ]
    }
   ],
   "source": [
    "print('Glucose 이상치 삭제 전: ', X_train.shape, y_train.shape)\n",
    "X_train = X_train.drop(index=del_idx, axis=1)\n",
    "y_train = y_train.drop(index=del_idx, axis=1)\n",
    "print('Glucose 이상치 삭제 후 : ', X_train.shape, y_train.shape)\n"
   ]
  },
  {
   "cell_type": "code",
   "execution_count": 23,
   "metadata": {},
   "outputs": [
    {
     "data": {
      "text/html": [
       "<div>\n",
       "<style scoped>\n",
       "    .dataframe tbody tr th:only-of-type {\n",
       "        vertical-align: middle;\n",
       "    }\n",
       "\n",
       "    .dataframe tbody tr th {\n",
       "        vertical-align: top;\n",
       "    }\n",
       "\n",
       "    .dataframe thead th {\n",
       "        text-align: right;\n",
       "    }\n",
       "</style>\n",
       "<table border=\"1\" class=\"dataframe\">\n",
       "  <thead>\n",
       "    <tr style=\"text-align: right;\">\n",
       "      <th></th>\n",
       "      <th>BloodPressure</th>\n",
       "      <th>SkinThickness</th>\n",
       "      <th>Insulin</th>\n",
       "      <th>BMI</th>\n",
       "    </tr>\n",
       "  </thead>\n",
       "  <tbody>\n",
       "    <tr>\n",
       "      <th>147</th>\n",
       "      <td>64.0</td>\n",
       "      <td>35.00000</td>\n",
       "      <td>119.000000</td>\n",
       "      <td>30.5</td>\n",
       "    </tr>\n",
       "    <tr>\n",
       "      <th>344</th>\n",
       "      <td>72.0</td>\n",
       "      <td>20.91133</td>\n",
       "      <td>82.866995</td>\n",
       "      <td>36.8</td>\n",
       "    </tr>\n",
       "    <tr>\n",
       "      <th>390</th>\n",
       "      <td>66.0</td>\n",
       "      <td>29.00000</td>\n",
       "      <td>196.000000</td>\n",
       "      <td>32.0</td>\n",
       "    </tr>\n",
       "    <tr>\n",
       "      <th>150</th>\n",
       "      <td>74.0</td>\n",
       "      <td>50.00000</td>\n",
       "      <td>204.000000</td>\n",
       "      <td>37.4</td>\n",
       "    </tr>\n",
       "    <tr>\n",
       "      <th>132</th>\n",
       "      <td>64.0</td>\n",
       "      <td>37.00000</td>\n",
       "      <td>225.000000</td>\n",
       "      <td>34.5</td>\n",
       "    </tr>\n",
       "    <tr>\n",
       "      <th>...</th>\n",
       "      <td>...</td>\n",
       "      <td>...</td>\n",
       "      <td>...</td>\n",
       "      <td>...</td>\n",
       "    </tr>\n",
       "    <tr>\n",
       "      <th>621</th>\n",
       "      <td>76.0</td>\n",
       "      <td>20.00000</td>\n",
       "      <td>82.866995</td>\n",
       "      <td>24.2</td>\n",
       "    </tr>\n",
       "    <tr>\n",
       "      <th>128</th>\n",
       "      <td>88.0</td>\n",
       "      <td>24.00000</td>\n",
       "      <td>145.000000</td>\n",
       "      <td>34.5</td>\n",
       "    </tr>\n",
       "    <tr>\n",
       "      <th>57</th>\n",
       "      <td>88.0</td>\n",
       "      <td>60.00000</td>\n",
       "      <td>110.000000</td>\n",
       "      <td>46.8</td>\n",
       "    </tr>\n",
       "    <tr>\n",
       "      <th>341</th>\n",
       "      <td>74.0</td>\n",
       "      <td>21.00000</td>\n",
       "      <td>73.000000</td>\n",
       "      <td>25.9</td>\n",
       "    </tr>\n",
       "    <tr>\n",
       "      <th>116</th>\n",
       "      <td>74.0</td>\n",
       "      <td>20.91133</td>\n",
       "      <td>82.866995</td>\n",
       "      <td>34.0</td>\n",
       "    </tr>\n",
       "  </tbody>\n",
       "</table>\n",
       "<p>609 rows × 4 columns</p>\n",
       "</div>"
      ],
      "text/plain": [
       "     BloodPressure  SkinThickness     Insulin   BMI\n",
       "147           64.0       35.00000  119.000000  30.5\n",
       "344           72.0       20.91133   82.866995  36.8\n",
       "390           66.0       29.00000  196.000000  32.0\n",
       "150           74.0       50.00000  204.000000  37.4\n",
       "132           64.0       37.00000  225.000000  34.5\n",
       "..             ...            ...         ...   ...\n",
       "621           76.0       20.00000   82.866995  24.2\n",
       "128           88.0       24.00000  145.000000  34.5\n",
       "57            88.0       60.00000  110.000000  46.8\n",
       "341           74.0       21.00000   73.000000  25.9\n",
       "116           74.0       20.91133   82.866995  34.0\n",
       "\n",
       "[609 rows x 4 columns]"
      ]
     },
     "execution_count": 23,
     "metadata": {},
     "output_type": "execute_result"
    }
   ],
   "source": [
    "#포도당을 제외한 이상치를 평균값으로 대체\n",
    "cols = ['BloodPressure', 'SkinThickness', 'Insulin','BMI']\n",
    "cols_mean = X_train[cols].mean()\n",
    "X_train.loc[:, cols].replace(0,cols_mean)      #전체 행에서 칼럼이 cols인것을 가져와\n",
    "# 또는 X_train[cols] = X_train[cols].replace(0, cols_mean)"
   ]
  },
  {
   "cell_type": "code",
   "execution_count": 24,
   "metadata": {},
   "outputs": [],
   "source": [
    "#스케일링\n",
    "from sklearn.preprocessing import StandardScaler\n",
    "scaler = StandardScaler()\n",
    "cols = ['Pregnancies','Glucose','BloodPressure','SkinThickness','Insulin','BMI','DiabetesPedigreeFunction','Age']\n",
    "X_train[cols] = scaler.fit_transform(X_train[cols])\n",
    "X_test[cols] = scaler.fit_transform(X_test[cols])\n"
   ]
  },
  {
   "cell_type": "code",
   "execution_count": 25,
   "metadata": {},
   "outputs": [],
   "source": [
    "X = X_train.drop('id', axis=1)\n",
    "test = X_test.drop('id',axis=1)"
   ]
  },
  {
   "cell_type": "code",
   "execution_count": 26,
   "metadata": {},
   "outputs": [],
   "source": [
    "from sklearn.svm import SVC\n",
    "model = SVC(random_state=2023)\n",
    "model.fit(X, y_train['Outcome'])\n",
    "pred = model.predict(test)"
   ]
  },
  {
   "cell_type": "code",
   "execution_count": 27,
   "metadata": {},
   "outputs": [
    {
     "data": {
      "text/plain": [
       "83.42"
      ]
     },
     "execution_count": 27,
     "metadata": {},
     "output_type": "execute_result"
    }
   ],
   "source": [
    "#오버피팅 되었을 때 점수가 잘 나올 수 있음(객관적 평가X, 벨리데이션 데이터로 평가 필요함)\n",
    "round(model.score(X, y_train['Outcome']) * 100, 2)"
   ]
  },
  {
   "cell_type": "code",
   "execution_count": 28,
   "metadata": {},
   "outputs": [
    {
     "data": {
      "text/html": [
       "<div>\n",
       "<style scoped>\n",
       "    .dataframe tbody tr th:only-of-type {\n",
       "        vertical-align: middle;\n",
       "    }\n",
       "\n",
       "    .dataframe tbody tr th {\n",
       "        vertical-align: top;\n",
       "    }\n",
       "\n",
       "    .dataframe thead th {\n",
       "        text-align: right;\n",
       "    }\n",
       "</style>\n",
       "<table border=\"1\" class=\"dataframe\">\n",
       "  <thead>\n",
       "    <tr style=\"text-align: right;\">\n",
       "      <th></th>\n",
       "      <th>idx</th>\n",
       "      <th>Outcome</th>\n",
       "    </tr>\n",
       "  </thead>\n",
       "  <tbody>\n",
       "    <tr>\n",
       "      <th>0</th>\n",
       "      <td>258</td>\n",
       "      <td>1</td>\n",
       "    </tr>\n",
       "    <tr>\n",
       "      <th>1</th>\n",
       "      <td>220</td>\n",
       "      <td>1</td>\n",
       "    </tr>\n",
       "    <tr>\n",
       "      <th>2</th>\n",
       "      <td>438</td>\n",
       "      <td>0</td>\n",
       "    </tr>\n",
       "    <tr>\n",
       "      <th>3</th>\n",
       "      <td>130</td>\n",
       "      <td>1</td>\n",
       "    </tr>\n",
       "    <tr>\n",
       "      <th>4</th>\n",
       "      <td>730</td>\n",
       "      <td>0</td>\n",
       "    </tr>\n",
       "  </tbody>\n",
       "</table>\n",
       "</div>"
      ],
      "text/plain": [
       "   idx  Outcome\n",
       "0  258        1\n",
       "1  220        1\n",
       "2  438        0\n",
       "3  130        1\n",
       "4  730        0"
      ]
     },
     "execution_count": 28,
     "metadata": {},
     "output_type": "execute_result"
    }
   ],
   "source": [
    "output = pd.DataFrame({'idx': X_test.index, 'Outcome': pred})\n",
    "output.head()"
   ]
  },
  {
   "cell_type": "code",
   "execution_count": null,
   "metadata": {},
   "outputs": [],
   "source": [
    "# 수험번호.csv로 출력\n",
    "# output.to_csv('1234567.csv', index=False)"
   ]
  }
 ],
 "metadata": {
  "kernelspec": {
   "display_name": "Python 3",
   "language": "python",
   "name": "python3"
  },
  "language_info": {
   "codemirror_mode": {
    "name": "ipython",
    "version": 3
   },
   "file_extension": ".py",
   "mimetype": "text/x-python",
   "name": "python",
   "nbconvert_exporter": "python",
   "pygments_lexer": "ipython3",
   "version": "3.11.3"
  }
 },
 "nbformat": 4,
 "nbformat_minor": 2
}
