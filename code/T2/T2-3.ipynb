{
 "cells": [
  {
   "cell_type": "markdown",
   "metadata": {},
   "source": [
    "- 성인 인구조사 소득 예측\n",
    "age: 나이\n",
    "workclass: 고용 형태\n",
    "fnlwgt: 사람의 대표성을 나타내는 가중치(final weight)\n",
    "education: 교육 수준\n",
    "education.num: 교육 수준 수치\n",
    "marital.status: 결혼 상태\n",
    "occupation: 업종\n",
    "relationship: 가족 관계\n",
    "race: 인종\n",
    "sex: 성별\n",
    "capital.gain: 양도 소득\n",
    "capital.loss: 양도 손실\n",
    "hours.per.week: 주당 근무 시간\n",
    "native.country: 국적\n",
    "income: 수익 (예측해야 하는 값)"
   ]
  },
  {
   "cell_type": "code",
   "execution_count": 2,
   "metadata": {},
   "outputs": [
    {
     "data": {
      "text/plain": [
       "((26048, 15), (6513, 15), (26048, 2), (6513, 2))"
      ]
     },
     "execution_count": 2,
     "metadata": {},
     "output_type": "execute_result"
    }
   ],
   "source": [
    "# 시험환경 세팅 (코드 변경 X)\n",
    "import pandas as pd\n",
    "import numpy as np\n",
    "from sklearn.model_selection import train_test_split\n",
    "\n",
    "def exam_data_load(df, target, id_name=\"\", null_name=\"\"):\n",
    "    if id_name == \"\":\n",
    "        df = df.reset_index().rename(columns={\"index\": \"id\"})\n",
    "        id_name = 'id'\n",
    "    else:\n",
    "        id_name = id_name\n",
    "    \n",
    "    if null_name != \"\":\n",
    "        df[df == null_name] = np.nan\n",
    "    \n",
    "    X_train, X_test = train_test_split(df, test_size=0.2, random_state=2021)\n",
    "    \n",
    "    y_train = X_train[[id_name, target]]\n",
    "    X_train = X_train.drop(columns=[target])\n",
    "\n",
    "    \n",
    "    y_test = X_test[[id_name, target]]\n",
    "    X_test = X_test.drop(columns=[target])\n",
    "    return X_train, X_test, y_train, y_test \n",
    "    \n",
    "df = pd.read_csv(\"../../Datasat/T2-3/adult.csv\")\n",
    "X_train, X_test, y_train, y_test = exam_data_load(df, target='income', null_name='?')\n",
    "\n",
    "X_train.shape, X_test.shape, y_train.shape, y_test.shape"
   ]
  },
  {
   "cell_type": "code",
   "execution_count": 13,
   "metadata": {},
   "outputs": [],
   "source": [
    "pd.set_option('display.max_columns', None)\n",
    "pd.set_option('display.max_rows', None)\n"
   ]
  },
  {
   "cell_type": "markdown",
   "metadata": {},
   "source": [
    "2. EDA"
   ]
  },
  {
   "cell_type": "code",
   "execution_count": 19,
   "metadata": {},
   "outputs": [
    {
     "name": "stdout",
     "output_type": "stream",
     "text": [
      "          id  age  workclass  fnlwgt     education  education.num  \\\n",
      "21851  21851   36    Private  241998     Bachelors             13   \n",
      "7632    7632   53    Private  103950       Masters             14   \n",
      "27878  27878   19    Private  203061  Some-college             10   \n",
      "14121  14121   20    Private  102607       HS-grad              9   \n",
      "32345  32345   54  State-gov  138852       HS-grad              9   \n",
      "\n",
      "           marital.status         occupation   relationship   race     sex  \\\n",
      "21851  Married-civ-spouse       Craft-repair        Husband  White    Male   \n",
      "7632             Divorced     Prof-specialty  Not-in-family  White  Female   \n",
      "27878       Never-married       Tech-support  Not-in-family  White  Female   \n",
      "14121       Never-married  Handlers-cleaners      Own-child  White    Male   \n",
      "32345  Married-civ-spouse     Prof-specialty        Husband  White    Male   \n",
      "\n",
      "       capital.gain  capital.loss  hours.per.week native.country  \n",
      "21851             0             0              50  United-States  \n",
      "7632              0             0              40  United-States  \n",
      "27878             0             0              25  United-States  \n",
      "14121             0             0              30  United-States  \n",
      "32345             0             0              40  United-States  \n"
     ]
    }
   ],
   "source": [
    "print(X_train.head())\n"
   ]
  },
  {
   "cell_type": "code",
   "execution_count": 20,
   "metadata": {},
   "outputs": [
    {
     "name": "stdout",
     "output_type": "stream",
     "text": [
      "          id income\n",
      "21851  21851   >50K\n",
      "7632    7632  <=50K\n",
      "27878  27878  <=50K\n",
      "14121  14121  <=50K\n",
      "32345  32345  <=50K\n"
     ]
    }
   ],
   "source": [
    "print(y_train.head())"
   ]
  },
  {
   "cell_type": "code",
   "execution_count": 23,
   "metadata": {},
   "outputs": [
    {
     "data": {
      "text/plain": [
       "income\n",
       "<=50K    19756\n",
       ">50K      6292\n",
       "Name: count, dtype: int64"
      ]
     },
     "execution_count": 23,
     "metadata": {},
     "output_type": "execute_result"
    }
   ],
   "source": [
    "#타켓수 확인\n",
    "y_train['income'].value_counts()"
   ]
  },
  {
   "cell_type": "code",
   "execution_count": 7,
   "metadata": {},
   "outputs": [
    {
     "name": "stdout",
     "output_type": "stream",
     "text": [
      "<class 'pandas.core.frame.DataFrame'>\n",
      "Index: 26048 entries, 21851 to 25716\n",
      "Data columns (total 15 columns):\n",
      " #   Column          Non-Null Count  Dtype \n",
      "---  ------          --------------  ----- \n",
      " 0   id              26048 non-null  int64 \n",
      " 1   age             26048 non-null  int64 \n",
      " 2   workclass       24592 non-null  object\n",
      " 3   fnlwgt          26048 non-null  int64 \n",
      " 4   education       26048 non-null  object\n",
      " 5   education.num   26048 non-null  int64 \n",
      " 6   marital.status  26048 non-null  object\n",
      " 7   occupation      24585 non-null  object\n",
      " 8   relationship    26048 non-null  object\n",
      " 9   race            26048 non-null  object\n",
      " 10  sex             26048 non-null  object\n",
      " 11  capital.gain    26048 non-null  int64 \n",
      " 12  capital.loss    26048 non-null  int64 \n",
      " 13  hours.per.week  26048 non-null  int64 \n",
      " 14  native.country  25587 non-null  object\n",
      "dtypes: int64(7), object(8)\n",
      "memory usage: 3.2+ MB\n",
      "None\n",
      "<class 'pandas.core.frame.DataFrame'>\n",
      "Index: 6513 entries, 20901 to 25782\n",
      "Data columns (total 15 columns):\n",
      " #   Column          Non-Null Count  Dtype \n",
      "---  ------          --------------  ----- \n",
      " 0   id              6513 non-null   int64 \n",
      " 1   age             6513 non-null   int64 \n",
      " 2   workclass       6133 non-null   object\n",
      " 3   fnlwgt          6513 non-null   int64 \n",
      " 4   education       6513 non-null   object\n",
      " 5   education.num   6513 non-null   int64 \n",
      " 6   marital.status  6513 non-null   object\n",
      " 7   occupation      6133 non-null   object\n",
      " 8   relationship    6513 non-null   object\n",
      " 9   race            6513 non-null   object\n",
      " 10  sex             6513 non-null   object\n",
      " 11  capital.gain    6513 non-null   int64 \n",
      " 12  capital.loss    6513 non-null   int64 \n",
      " 13  hours.per.week  6513 non-null   int64 \n",
      " 14  native.country  6391 non-null   object\n",
      "dtypes: int64(7), object(8)\n",
      "memory usage: 814.1+ KB\n",
      "None\n",
      "<class 'pandas.core.frame.DataFrame'>\n",
      "Index: 26048 entries, 21851 to 25716\n",
      "Data columns (total 2 columns):\n",
      " #   Column  Non-Null Count  Dtype \n",
      "---  ------  --------------  ----- \n",
      " 0   id      26048 non-null  int64 \n",
      " 1   income  26048 non-null  object\n",
      "dtypes: int64(1), object(1)\n",
      "memory usage: 610.5+ KB\n",
      "None\n"
     ]
    }
   ],
   "source": [
    "print(X_train.info())\n",
    "print(X_test.info())\n",
    "print(y_train.info())\n"
   ]
  },
  {
   "cell_type": "code",
   "execution_count": null,
   "metadata": {},
   "outputs": [],
   "source": [
    "# 결측치\n",
    "# X_train(26048, 15) : workclass(24592, 15), occupation(24585, 15), native.country(25587, 15)\n",
    "\n",
    "#원핫인코딩(pd.get_dummies) : workclass, education, marital.status, occupation, relationship, race, sex, native.country"
   ]
  },
  {
   "cell_type": "code",
   "execution_count": 16,
   "metadata": {},
   "outputs": [
    {
     "name": "stdout",
     "output_type": "stream",
     "text": [
      "                 id           age        fnlwgt  education.num  capital.gain  \\\n",
      "count  26048.000000  26048.000000  2.604800e+04   26048.000000  26048.000000   \n",
      "mean   16238.931933     38.610335  1.895741e+05      10.082118   1081.193796   \n",
      "std     9389.917448     13.628346  1.043848e+05       2.574608   7404.962675   \n",
      "min        0.000000     17.000000  1.228500e+04       1.000000      0.000000   \n",
      "25%     8149.500000     28.000000  1.182472e+05       9.000000      0.000000   \n",
      "50%    16192.500000     37.000000  1.785755e+05      10.000000      0.000000   \n",
      "75%    24362.250000     48.000000  2.365968e+05      12.000000      0.000000   \n",
      "max    32560.000000     90.000000  1.484705e+06      16.000000  99999.000000   \n",
      "\n",
      "       capital.loss  hours.per.week  \n",
      "count  26048.000000    26048.000000  \n",
      "mean      88.477695       40.420224  \n",
      "std      404.689981       12.354707  \n",
      "min        0.000000        1.000000  \n",
      "25%        0.000000       40.000000  \n",
      "50%        0.000000       40.000000  \n",
      "75%        0.000000       45.000000  \n",
      "max     4356.000000       99.000000  \n"
     ]
    }
   ],
   "source": [
    "print(X_train.describe())\n"
   ]
  },
  {
   "cell_type": "code",
   "execution_count": 17,
   "metadata": {},
   "outputs": [
    {
     "name": "stdout",
     "output_type": "stream",
     "text": [
      "                 id          age        fnlwgt  education.num  capital.gain  \\\n",
      "count   6513.000000  6513.000000  6.513000e+03    6513.000000   6513.000000   \n",
      "mean   16444.247044    38.466912  1.905952e+05      10.074927   1063.471211   \n",
      "std     9437.636403    13.689111  1.100911e+05       2.565345   7306.639179   \n",
      "min        5.000000    17.000000  1.930200e+04       1.000000      0.000000   \n",
      "25%     8116.000000    27.000000  1.166080e+05       9.000000      0.000000   \n",
      "50%    16602.000000    37.000000  1.775960e+05      10.000000      0.000000   \n",
      "75%    24663.000000    47.000000  2.400270e+05      12.000000      0.000000   \n",
      "max    32558.000000    90.000000  1.455435e+06      16.000000  99999.000000   \n",
      "\n",
      "       capital.loss  hours.per.week  \n",
      "count   6513.000000     6513.000000  \n",
      "mean      82.609090       40.506372  \n",
      "std      395.962575       12.318984  \n",
      "min        0.000000        1.000000  \n",
      "25%        0.000000       40.000000  \n",
      "50%        0.000000       40.000000  \n",
      "75%        0.000000       45.000000  \n",
      "max     3770.000000       99.000000  \n"
     ]
    }
   ],
   "source": [
    "print(X_test.describe())"
   ]
  },
  {
   "cell_type": "code",
   "execution_count": 25,
   "metadata": {},
   "outputs": [
    {
     "data": {
      "text/plain": [
       "id                   0\n",
       "age                  0\n",
       "workclass         1456\n",
       "fnlwgt               0\n",
       "education            0\n",
       "education.num        0\n",
       "marital.status       0\n",
       "occupation        1463\n",
       "relationship         0\n",
       "race                 0\n",
       "sex                  0\n",
       "capital.gain         0\n",
       "capital.loss         0\n",
       "hours.per.week       0\n",
       "native.country     461\n",
       "dtype: int64"
      ]
     },
     "execution_count": 25,
     "metadata": {},
     "output_type": "execute_result"
    }
   ],
   "source": [
    "X_train.isnull().sum()\n"
   ]
  },
  {
   "cell_type": "code",
   "execution_count": 26,
   "metadata": {},
   "outputs": [
    {
     "data": {
      "text/plain": [
       "id                  0\n",
       "age                 0\n",
       "workclass         380\n",
       "fnlwgt              0\n",
       "education           0\n",
       "education.num       0\n",
       "marital.status      0\n",
       "occupation        380\n",
       "relationship        0\n",
       "race                0\n",
       "sex                 0\n",
       "capital.gain        0\n",
       "capital.loss        0\n",
       "hours.per.week      0\n",
       "native.country    122\n",
       "dtype: int64"
      ]
     },
     "execution_count": 26,
     "metadata": {},
     "output_type": "execute_result"
    }
   ],
   "source": [
    "X_test.isnull().sum()"
   ]
  },
  {
   "cell_type": "code",
   "execution_count": 28,
   "metadata": {},
   "outputs": [
    {
     "data": {
      "text/plain": [
       "workclass\n",
       "Private             18160\n",
       "Self-emp-not-inc     2049\n",
       "Local-gov            1648\n",
       "State-gov            1037\n",
       "Self-emp-inc          909\n",
       "Federal-gov           770\n",
       "Without-pay            12\n",
       "Never-worked            7\n",
       "Name: count, dtype: int64"
      ]
     },
     "execution_count": 28,
     "metadata": {},
     "output_type": "execute_result"
    }
   ],
   "source": [
    "X_train['workclass'].value_counts()"
   ]
  },
  {
   "cell_type": "code",
   "execution_count": 29,
   "metadata": {},
   "outputs": [
    {
     "data": {
      "text/plain": [
       "occupation\n",
       "Exec-managerial      3323\n",
       "Prof-specialty       3306\n",
       "Craft-repair         3296\n",
       "Adm-clerical         3037\n",
       "Sales                2898\n",
       "Other-service        2624\n",
       "Machine-op-inspct    1584\n",
       "Transport-moving     1257\n",
       "Handlers-cleaners    1080\n",
       "Farming-fishing       786\n",
       "Tech-support          746\n",
       "Protective-serv       521\n",
       "Priv-house-serv       119\n",
       "Armed-Forces            8\n",
       "Name: count, dtype: int64"
      ]
     },
     "execution_count": 29,
     "metadata": {},
     "output_type": "execute_result"
    }
   ],
   "source": [
    "X_train['occupation'].value_counts()"
   ]
  },
  {
   "cell_type": "code",
   "execution_count": 30,
   "metadata": {},
   "outputs": [
    {
     "data": {
      "text/plain": [
       "native.country\n",
       "United-States                 23381\n",
       "Mexico                          516\n",
       "Philippines                     158\n",
       "Germany                         108\n",
       "Canada                           88\n",
       "Puerto-Rico                      87\n",
       "El-Salvador                      76\n",
       "India                            73\n",
       "Cuba                             73\n",
       "England                          69\n",
       "Italy                            63\n",
       "South                            62\n",
       "Jamaica                          59\n",
       "Vietnam                          57\n",
       "China                            57\n",
       "Guatemala                        54\n",
       "Dominican-Republic               51\n",
       "Japan                            49\n",
       "Poland                           47\n",
       "Columbia                         44\n",
       "Taiwan                           37\n",
       "Haiti                            37\n",
       "Iran                             34\n",
       "Portugal                         32\n",
       "Peru                             29\n",
       "Nicaragua                        27\n",
       "Ecuador                          25\n",
       "Greece                           24\n",
       "France                           23\n",
       "Ireland                          19\n",
       "Cambodia                         18\n",
       "Hong                             17\n",
       "Trinadad&Tobago                  17\n",
       "Thailand                         16\n",
       "Laos                             13\n",
       "Outlying-US(Guam-USVI-etc)       11\n",
       "Yugoslavia                       11\n",
       "Honduras                          9\n",
       "Hungary                           8\n",
       "Scotland                          7\n",
       "Holand-Netherlands                1\n",
       "Name: count, dtype: int64"
      ]
     },
     "execution_count": 30,
     "metadata": {},
     "output_type": "execute_result"
    }
   ],
   "source": [
    "X_train['native.country'].value_counts()"
   ]
  },
  {
   "cell_type": "code",
   "execution_count": 31,
   "metadata": {},
   "outputs": [
    {
     "data": {
      "text/plain": [
       "age               0\n",
       "workclass         0\n",
       "fnlwgt            0\n",
       "education         0\n",
       "education.num     0\n",
       "marital.status    0\n",
       "occupation        0\n",
       "relationship      0\n",
       "race              0\n",
       "sex               0\n",
       "capital.gain      0\n",
       "capital.loss      0\n",
       "hours.per.week    0\n",
       "native.country    0\n",
       "income            0\n",
       "dtype: int64"
      ]
     },
     "execution_count": 31,
     "metadata": {},
     "output_type": "execute_result"
    }
   ],
   "source": [
    "#workclass, native.country는 최빈값, 최빈값이 비슷한 occupation는 null값으로 대체\n",
    "def data_fillna(df):\n",
    "  df['workclass'] = df['workclass'].fillna(df['workclass'].mode()[0])\n",
    "  df['occupation'] = df['occupation'].fillna(\"null\")\n",
    "  df['native.country'] = df['native.country'].fillna(df['native.country'].mode()[0])\n",
    "  return df\n",
    "\n",
    "X_train = data_fillna(df)\n",
    "X_test = data_fillna(df)\n",
    "\n",
    "X_train.isnull().sum()\n",
    "  "
   ]
  },
  {
   "cell_type": "markdown",
   "metadata": {},
   "source": [
    "피처엔지니어링"
   ]
  },
  {
   "cell_type": "code",
   "execution_count": 33,
   "metadata": {},
   "outputs": [],
   "source": [
    "# 피처 구분\n",
    "# Numeric features\n",
    "numeric_features = [\n",
    "                    'age',\n",
    "                    'fnlwgt', \n",
    "                    'education.num',\n",
    "                    'capital.gain', \n",
    "                    'capital.loss', \n",
    "                    'hours.per.week',                     \n",
    "                  ]\n",
    "\n",
    "# Categorical features\n",
    "cat_features = [\n",
    "                 'workclass',              \n",
    "                 'education',            \n",
    "                 'marital.status', \n",
    "                 'occupation', \n",
    "                 'relationship', \n",
    "                 'race', \n",
    "                 'sex',\n",
    "                 'native.country'\n",
    "                ]"
   ]
  },
  {
   "cell_type": "code",
   "execution_count": 34,
   "metadata": {},
   "outputs": [
    {
     "data": {
      "text/plain": [
       "((32561, 110), (32561, 110))"
      ]
     },
     "execution_count": 34,
     "metadata": {},
     "output_type": "execute_result"
    }
   ],
   "source": [
    "#라벨 인코딩\n",
    "# from sklearn.preprocessing import LabelEncoder\n",
    "\n",
    "# all_df = pd.concat([X_train.assign(ind=\"train\"), X_test.assign(ind=\"test\")])\n",
    "# le = LabelEncoder()\n",
    "# all_df[cat_features] = all_df[cat_features].apply(le.fit_transform)\n",
    "\n",
    "# X_train = all_df[all_df['ind'] == 'train']\n",
    "# X_train = X_train.drop('ind',axis=1)\n",
    "# X_train\n",
    "\n",
    "# X_test = all_df[all_df['ind'] == 'test']\n",
    "# X_test = X_test.drop('ind',axis=1)\n",
    "# X_test\n",
    "\n",
    "#원핫 인코딩 (pd.get_dummies)\n",
    "\n",
    "X_train = pd.get_dummies(X_train)\n",
    "X_test = pd.get_dummies(X_test)\n",
    "X_train.shape, X_test.shape"
   ]
  },
  {
   "cell_type": "code",
   "execution_count": null,
   "metadata": {},
   "outputs": [],
   "source": []
  }
 ],
 "metadata": {
  "kernelspec": {
   "display_name": "Python 3",
   "language": "python",
   "name": "python3"
  },
  "language_info": {
   "codemirror_mode": {
    "name": "ipython",
    "version": 3
   },
   "file_extension": ".py",
   "mimetype": "text/x-python",
   "name": "python",
   "nbconvert_exporter": "python",
   "pygments_lexer": "ipython3",
   "version": "3.11.3"
  }
 },
 "nbformat": 4,
 "nbformat_minor": 2
}
